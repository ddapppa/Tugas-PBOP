{
  "nbformat": 4,
  "nbformat_minor": 0,
  "metadata": {
    "colab": {
      "provenance": []
    },
    "kernelspec": {
      "name": "python3",
      "display_name": "Python 3"
    },
    "language_info": {
      "name": "python"
    }
  },
  "cells": [
    {
      "cell_type": "code",
      "execution_count": 1,
      "metadata": {
        "colab": {
          "base_uri": "https://localhost:8080/"
        },
        "id": "ZCIYIi3as03D",
        "outputId": "01acc5ca-6284-40e3-d8e7-8a1553d2b753"
      },
      "outputs": [
        {
          "output_type": "stream",
          "name": "stdout",
          "text": [
            "Requirement already satisfied: scikit-learn in /usr/local/lib/python3.10/dist-packages (1.5.2)\n",
            "Requirement already satisfied: numpy>=1.19.5 in /usr/local/lib/python3.10/dist-packages (from scikit-learn) (1.26.4)\n",
            "Requirement already satisfied: scipy>=1.6.0 in /usr/local/lib/python3.10/dist-packages (from scikit-learn) (1.13.1)\n",
            "Requirement already satisfied: joblib>=1.2.0 in /usr/local/lib/python3.10/dist-packages (from scikit-learn) (1.4.2)\n",
            "Requirement already satisfied: threadpoolctl>=3.1.0 in /usr/local/lib/python3.10/dist-packages (from scikit-learn) (3.5.0)\n"
          ]
        }
      ],
      "source": [
        "pip install scikit-learn"
      ]
    },
    {
      "cell_type": "code",
      "source": [
        "\n"
      ],
      "metadata": {
        "id": "X1Hdumvrs3se"
      },
      "execution_count": 2,
      "outputs": []
    },
    {
      "cell_type": "code",
      "source": [
        "import pandas as pd\n",
        "from sklearn.preprocessing import LabelEncoder, MinMaxScaler\n",
        "from sklearn.model_selection import train_test_split\n",
        "from sklearn.ensemble import RandomForestClassifier\n",
        "from sklearn.neighbors import KNeighborsRegressor  # Ganti ke KNeighborsRegressor\n",
        "from sklearn.linear_model import LinearRegression\n",
        "from sklearn.svm import SVR\n",
        "from sklearn.metrics import accuracy_score, classification_report, confusion_matrix, mean_squared_error\n",
        "import matplotlib.pyplot as plt\n",
        "import seaborn as sns\n",
        "\n",
        "class QualityAir:\n",
        "    def __init__(self, data):\n",
        "        self.data = data\n",
        "\n",
        "        # Memeriksa dan menangani nilai NaN\n",
        "        if self.data.isnull().values.any():\n",
        "            print(\"Data mengandung nilai NaN. Menghapus baris dengan nilai NaN.\")\n",
        "            self.data = self.data.dropna()  # Menghapus baris dengan nilai NaN\n",
        "\n",
        "        if 'Air Quality' not in self.data.columns:\n",
        "            raise ValueError(\"Kolom 'Air Quality' tidak ditemukan dalam data.\")\n",
        "\n",
        "        # Mengonversi nilai Air Quality yang berupa string ke angka\n",
        "        label_encoder = LabelEncoder()\n",
        "        self.data['Air Quality'] = label_encoder.fit_transform(self.data['Air Quality'])\n",
        "\n",
        "        # Memeriksa hasil konversi\n",
        "        print(\"Data setelah konversi 'Air Quality' ke angka:\")\n",
        "        print(self.data['Air Quality'].unique())  # Menampilkan nilai unik setelah konversi\n",
        "\n",
        "        self.X = self.data.drop(['Air Quality'], axis=1)\n",
        "        self.y = self.data['Air Quality']\n",
        "        self.X_train, self.X_test, self.y_train, self.y_test = train_test_split(self.X, self.y, test_size=0.2, random_state=42)\n",
        "\n",
        "        self.model = RandomForestClassifier(n_estimators=100, random_state=42)\n",
        "        self.train_model()\n",
        "\n",
        "\n",
        "\n",
        "    @staticmethod\n",
        "    def Membaca_xlsx(file_path):\n",
        "        try:\n",
        "            data = pd.read_excel(file_path)  # Menggunakan parameter file_path yang diterima\n",
        "            return data\n",
        "        except FileNotFoundError:\n",
        "            print(f\"File '{file_path}' tidak ditemukan. Pastikan path dan nama file sudah benar.\")\n",
        "            return None\n",
        "\n",
        "    def train_model(self):\n",
        "        self.model.fit(self.X_train, self.y_train)\n",
        "        self.y_pred = self.model.predict(self.X_test)\n",
        "        self.accuracy = accuracy_score(self.y_test, self.y_pred)\n",
        "        self.classification_report = classification_report(self.y_test, self.y_pred)\n",
        "        self.confusion_matrix = confusion_matrix(self.y_test, self.y_pred)\n",
        "        self.feature_importances = self.model.feature_importances_\n",
        "        self.feature_names = self.X.columns\n",
        "        self.feature_importances_df = pd.DataFrame({'feature': self.feature_names, 'importance': self.feature_importances})\n",
        "        self.plot_importances()\n",
        "        self.plot_confusion_matrix()\n",
        "\n",
        "    def plot_importances(self):\n",
        "        plt.figure(figsize=(10, 6))\n",
        "        sns.barplot(x=\"feature\", y=\"importance\", data=self.feature_importances_df)\n",
        "        plt.title(\"Feature Importances\")\n",
        "        plt.xlabel(\"Feature\")\n",
        "        plt.ylabel(\"Importance\")\n",
        "        plt.show()\n",
        "\n",
        "    def plot_confusion_matrix(self):\n",
        "        plt.figure(figsize=(10, 6))\n",
        "        sns.heatmap(self.confusion_matrix, annot=True, fmt='d', cmap='Blues')\n",
        "        plt.title('Confusion Matrix')\n",
        "        plt.xlabel('Predicted')\n",
        "        plt.ylabel('Actual')\n",
        "        plt.show()\n",
        "\n",
        "class Regresi:\n",
        "    def __init__(self, data):\n",
        "        self.data = data\n",
        "        if 'Air Quality' not in data.columns:\n",
        "            raise ValueError(\"Kolom 'Air Quality' tidak ditemukan dalam data.\")\n",
        "\n",
        "        # Mengonversi Air Quality ke angka seperti yang dilakukan di kelas QualityAir\n",
        "        label_encoder = LabelEncoder()\n",
        "        self.data['Air Quality'] = label_encoder.fit_transform(self.data['Air Quality'])\n",
        "\n",
        "        # Menggunakan data kontinu untuk regresi\n",
        "        self.X = data.drop(['Air Quality'], axis=1)\n",
        "        self.y = data['Air Quality']\n",
        "        self.X_train, self.X_test, self.y_train, self.y_test = train_test_split(self.X, self.y, test_size=0.2, random_state=42)\n",
        "\n",
        "    def Regresi_Linier(self):\n",
        "        model = LinearRegression()\n",
        "        model.fit(self.X_train, self.y_train)\n",
        "        y_pred = model.predict(self.X_test)\n",
        "        mse = mean_squared_error(self.y_test, y_pred)\n",
        "        print(\"Mean Squared Error Regresi Linier:\", mse)\n",
        "\n",
        "    def Regresi_Vektor_Pendukung_SVR(self):\n",
        "        model = SVR()\n",
        "        model.fit(self.X_train, self.y_train)\n",
        "        y_pred = model.predict(self.X_test)\n",
        "        mse = mean_squared_error(self.y_test, y_pred)\n",
        "        print(\"Mean Squared Error SVR:\", mse)\n",
        "\n",
        "    def Regresi_KNN(self):  # Menambahkan metode regresi KNN\n",
        "        model = KNeighborsRegressor(n_neighbors=5)\n",
        "        model.fit(self.X_train, self.y_train)\n",
        "        y_pred = model.predict(self.X_test)\n",
        "        mse = mean_squared_error(self.y_test, y_pred)\n",
        "        print(\"Mean Squared Error KNN:\", mse)\n",
        "\n",
        "\n",
        "\n",
        "# Menu interaksi pengguna\n",
        "while True:\n",
        "    print(\"1. Membaca XLSX\")\n",
        "    print(\"2. Training Model\")\n",
        "    print(\"3. Regresi\")\n",
        "    print(\"4. Exit\")\n",
        "    pilihan = input(\"Pilih menu: \")\n",
        "\n",
        "    if pilihan == \"1\":\n",
        "        file_name = input(\"Masukkan nama file XLSX (misal: data.xlsx): \")\n",
        "        data = QualityAir.Membaca_xlsx(file_name)\n",
        "        if data is not None:\n",
        "            try:\n",
        "                quality_air = QualityAir(data)\n",
        "                print(\"Data berhasil dimuat.\")\n",
        "                print(\"\\nBeberapa baris pertama dari data:\")\n",
        "                print(quality_air.data.head())\n",
        "            except ValueError as e:\n",
        "                print(e)\n",
        "\n",
        "    elif pilihan == \"2\":\n",
        "        if 'quality_air' in locals():\n",
        "            quality_air.train_model()\n",
        "            print(\"Model telah dilatih.\")\n",
        "            print(\"Akurasi:\", quality_air.accuracy)\n",
        "            print(\"Laporan Klasifikasi:\\n\", quality_air.classification_report)\n",
        "        else:\n",
        "            print(\"Silakan muat data terlebih dahulu.\")\n",
        "\n",
        "    elif pilihan == \"3\":\n",
        "        if 'quality_air' in locals():\n",
        "            regresi = Regresi(quality_air.data)\n",
        "            print(\"Pilih metode regresi:\")\n",
        "            print(\"1. Regresi Linier\")\n",
        "            print(\"2. Regresi Vektor Pendukung (SVR)\")\n",
        "            print(\"3. Regresi K-Nearest Neighbors (KNN)\")\n",
        "            regresi_pilihan = input(\"Pilih metode: \")\n",
        "            if regresi_pilihan == \"1\":\n",
        "                regresi.Regresi_Linier()\n",
        "            elif regresi_pilihan == \"2\":\n",
        "                regresi.Regresi_Vektor_Pendukung_SVR()\n",
        "            elif regresi_pilihan == \"3\":\n",
        "                regresi.Regresi_KNN()\n",
        "            else:\n",
        "                print(\"Pilihan tidak valid.\")\n",
        "        else:\n",
        "            print(\"Silakan muat data terlebih dahulu.\")\n",
        "\n",
        "    elif pilihan == \"4\":\n",
        "        print(\"Keluar dari program.\")\n",
        "        break\n",
        "\n",
        "    else:\n",
        "        print(\"Pilihan tidak valid. Silakan coba lagi.\")\n"
      ],
      "metadata": {
        "colab": {
          "base_uri": "https://localhost:8080/",
          "height": 1000
        },
        "id": "KNSj7UuntFWE",
        "outputId": "1c45a1f5-f545-4489-c2c1-a28346959270"
      },
      "execution_count": 23,
      "outputs": [
        {
          "name": "stdout",
          "output_type": "stream",
          "text": [
            "1. Membaca XLSX\n",
            "2. Training Model\n",
            "3. Regresi\n",
            "4. Exit\n",
            "Pilih menu: 3\n"
          ]
        },
        {
          "output_type": "stream",
          "name": "stderr",
          "text": [
            "<ipython-input-23-d04c52758f93>:86: SettingWithCopyWarning: \n",
            "A value is trying to be set on a copy of a slice from a DataFrame.\n",
            "Try using .loc[row_indexer,col_indexer] = value instead\n",
            "\n",
            "See the caveats in the documentation: https://pandas.pydata.org/pandas-docs/stable/user_guide/indexing.html#returning-a-view-versus-a-copy\n",
            "  self.data['Air Quality'] = label_encoder.fit_transform(self.data['Air Quality'])\n"
          ]
        },
        {
          "name": "stdout",
          "output_type": "stream",
          "text": [
            "Pilih metode regresi:\n",
            "1. Regresi Linier\n",
            "2. Regresi Vektor Pendukung (SVR)\n",
            "3. Regresi K-Nearest Neighbors (KNN)\n",
            "Pilih metode: 1\n",
            "Mean Squared Error Regresi Linier: 0.6213861673583195\n",
            "1. Membaca XLSX\n",
            "2. Training Model\n",
            "3. Regresi\n",
            "4. Exit\n",
            "Pilih menu: 3\n"
          ]
        },
        {
          "output_type": "stream",
          "name": "stderr",
          "text": [
            "<ipython-input-23-d04c52758f93>:86: SettingWithCopyWarning: \n",
            "A value is trying to be set on a copy of a slice from a DataFrame.\n",
            "Try using .loc[row_indexer,col_indexer] = value instead\n",
            "\n",
            "See the caveats in the documentation: https://pandas.pydata.org/pandas-docs/stable/user_guide/indexing.html#returning-a-view-versus-a-copy\n",
            "  self.data['Air Quality'] = label_encoder.fit_transform(self.data['Air Quality'])\n"
          ]
        },
        {
          "name": "stdout",
          "output_type": "stream",
          "text": [
            "Pilih metode regresi:\n",
            "1. Regresi Linier\n",
            "2. Regresi Vektor Pendukung (SVR)\n",
            "3. Regresi K-Nearest Neighbors (KNN)\n",
            "Pilih metode: 2\n",
            "Mean Squared Error SVR: 1.1797534635233518\n",
            "1. Membaca XLSX\n",
            "2. Training Model\n",
            "3. Regresi\n",
            "4. Exit\n",
            "Pilih menu: 3\n"
          ]
        },
        {
          "output_type": "stream",
          "name": "stderr",
          "text": [
            "<ipython-input-23-d04c52758f93>:86: SettingWithCopyWarning: \n",
            "A value is trying to be set on a copy of a slice from a DataFrame.\n",
            "Try using .loc[row_indexer,col_indexer] = value instead\n",
            "\n",
            "See the caveats in the documentation: https://pandas.pydata.org/pandas-docs/stable/user_guide/indexing.html#returning-a-view-versus-a-copy\n",
            "  self.data['Air Quality'] = label_encoder.fit_transform(self.data['Air Quality'])\n"
          ]
        },
        {
          "output_type": "stream",
          "name": "stdout",
          "text": [
            "Pilih metode regresi:\n",
            "1. Regresi Linier\n",
            "2. Regresi Vektor Pendukung (SVR)\n",
            "3. Regresi K-Nearest Neighbors (KNN)\n",
            "Pilih metode: 3\n",
            "Mean Squared Error KNN: 0.49306122448979595\n",
            "1. Membaca XLSX\n",
            "2. Training Model\n",
            "3. Regresi\n",
            "4. Exit\n"
          ]
        },
        {
          "output_type": "error",
          "ename": "KeyboardInterrupt",
          "evalue": "Interrupted by user",
          "traceback": [
            "\u001b[0;31m---------------------------------------------------------------------------\u001b[0m",
            "\u001b[0;31mKeyboardInterrupt\u001b[0m                         Traceback (most recent call last)",
            "\u001b[0;32m<ipython-input-23-d04c52758f93>\u001b[0m in \u001b[0;36m<cell line: 117>\u001b[0;34m()\u001b[0m\n\u001b[1;32m    120\u001b[0m     \u001b[0mprint\u001b[0m\u001b[0;34m(\u001b[0m\u001b[0;34m\"3. Regresi\"\u001b[0m\u001b[0;34m)\u001b[0m\u001b[0;34m\u001b[0m\u001b[0;34m\u001b[0m\u001b[0m\n\u001b[1;32m    121\u001b[0m     \u001b[0mprint\u001b[0m\u001b[0;34m(\u001b[0m\u001b[0;34m\"4. Exit\"\u001b[0m\u001b[0;34m)\u001b[0m\u001b[0;34m\u001b[0m\u001b[0;34m\u001b[0m\u001b[0m\n\u001b[0;32m--> 122\u001b[0;31m     \u001b[0mpilihan\u001b[0m \u001b[0;34m=\u001b[0m \u001b[0minput\u001b[0m\u001b[0;34m(\u001b[0m\u001b[0;34m\"Pilih menu: \"\u001b[0m\u001b[0;34m)\u001b[0m\u001b[0;34m\u001b[0m\u001b[0;34m\u001b[0m\u001b[0m\n\u001b[0m\u001b[1;32m    123\u001b[0m \u001b[0;34m\u001b[0m\u001b[0m\n\u001b[1;32m    124\u001b[0m     \u001b[0;32mif\u001b[0m \u001b[0mpilihan\u001b[0m \u001b[0;34m==\u001b[0m \u001b[0;34m\"1\"\u001b[0m\u001b[0;34m:\u001b[0m\u001b[0;34m\u001b[0m\u001b[0;34m\u001b[0m\u001b[0m\n",
            "\u001b[0;32m/usr/local/lib/python3.10/dist-packages/ipykernel/kernelbase.py\u001b[0m in \u001b[0;36mraw_input\u001b[0;34m(self, prompt)\u001b[0m\n\u001b[1;32m    849\u001b[0m                 \u001b[0;34m\"raw_input was called, but this frontend does not support input requests.\"\u001b[0m\u001b[0;34m\u001b[0m\u001b[0;34m\u001b[0m\u001b[0m\n\u001b[1;32m    850\u001b[0m             )\n\u001b[0;32m--> 851\u001b[0;31m         return self._input_request(str(prompt),\n\u001b[0m\u001b[1;32m    852\u001b[0m             \u001b[0mself\u001b[0m\u001b[0;34m.\u001b[0m\u001b[0m_parent_ident\u001b[0m\u001b[0;34m,\u001b[0m\u001b[0;34m\u001b[0m\u001b[0;34m\u001b[0m\u001b[0m\n\u001b[1;32m    853\u001b[0m             \u001b[0mself\u001b[0m\u001b[0;34m.\u001b[0m\u001b[0m_parent_header\u001b[0m\u001b[0;34m,\u001b[0m\u001b[0;34m\u001b[0m\u001b[0;34m\u001b[0m\u001b[0m\n",
            "\u001b[0;32m/usr/local/lib/python3.10/dist-packages/ipykernel/kernelbase.py\u001b[0m in \u001b[0;36m_input_request\u001b[0;34m(self, prompt, ident, parent, password)\u001b[0m\n\u001b[1;32m    893\u001b[0m             \u001b[0;32mexcept\u001b[0m \u001b[0mKeyboardInterrupt\u001b[0m\u001b[0;34m:\u001b[0m\u001b[0;34m\u001b[0m\u001b[0;34m\u001b[0m\u001b[0m\n\u001b[1;32m    894\u001b[0m                 \u001b[0;31m# re-raise KeyboardInterrupt, to truncate traceback\u001b[0m\u001b[0;34m\u001b[0m\u001b[0;34m\u001b[0m\u001b[0m\n\u001b[0;32m--> 895\u001b[0;31m                 \u001b[0;32mraise\u001b[0m \u001b[0mKeyboardInterrupt\u001b[0m\u001b[0;34m(\u001b[0m\u001b[0;34m\"Interrupted by user\"\u001b[0m\u001b[0;34m)\u001b[0m \u001b[0;32mfrom\u001b[0m \u001b[0;32mNone\u001b[0m\u001b[0;34m\u001b[0m\u001b[0;34m\u001b[0m\u001b[0m\n\u001b[0m\u001b[1;32m    896\u001b[0m             \u001b[0;32mexcept\u001b[0m \u001b[0mException\u001b[0m \u001b[0;32mas\u001b[0m \u001b[0me\u001b[0m\u001b[0;34m:\u001b[0m\u001b[0;34m\u001b[0m\u001b[0;34m\u001b[0m\u001b[0m\n\u001b[1;32m    897\u001b[0m                 \u001b[0mself\u001b[0m\u001b[0;34m.\u001b[0m\u001b[0mlog\u001b[0m\u001b[0;34m.\u001b[0m\u001b[0mwarning\u001b[0m\u001b[0;34m(\u001b[0m\u001b[0;34m\"Invalid Message:\"\u001b[0m\u001b[0;34m,\u001b[0m \u001b[0mexc_info\u001b[0m\u001b[0;34m=\u001b[0m\u001b[0;32mTrue\u001b[0m\u001b[0;34m)\u001b[0m\u001b[0;34m\u001b[0m\u001b[0;34m\u001b[0m\u001b[0m\n",
            "\u001b[0;31mKeyboardInterrupt\u001b[0m: Interrupted by user"
          ]
        }
      ]
    },
    {
      "cell_type": "code",
      "source": [],
      "metadata": {
        "id": "fjUMZxnB1k8U"
      },
      "execution_count": null,
      "outputs": []
    }
  ]
}